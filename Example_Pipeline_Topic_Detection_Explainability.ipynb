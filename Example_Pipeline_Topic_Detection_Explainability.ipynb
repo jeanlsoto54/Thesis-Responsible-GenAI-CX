{
 "cells": [
  {
   "cell_type": "code",
   "execution_count": 1,
   "metadata": {
    "_cell_guid": "b1076dfc-b9ad-4769-8c92-a6c4dae69d19",
    "_uuid": "8f2839f25d086af736a60e9eeb907d3b93b6e0e5",
    "execution": {
     "iopub.execute_input": "2024-11-28T19:31:48.579544Z",
     "iopub.status.busy": "2024-11-28T19:31:48.579198Z",
     "iopub.status.idle": "2024-11-28T19:31:58.735542Z",
     "shell.execute_reply": "2024-11-28T19:31:58.734641Z",
     "shell.execute_reply.started": "2024-11-28T19:31:48.579512Z"
    },
    "trusted": true
   },
   "outputs": [
    {
     "name": "stdout",
     "output_type": "stream",
     "text": [
      "Collecting bertopic\n",
      "  Downloading bertopic-0.16.4-py3-none-any.whl.metadata (23 kB)\n",
      "Collecting hdbscan>=0.8.29 (from bertopic)\n",
      "  Downloading hdbscan-0.8.40-cp310-cp310-manylinux_2_17_x86_64.manylinux2014_x86_64.whl.metadata (15 kB)\n",
      "Requirement already satisfied: numpy>=1.20.0 in /opt/conda/lib/python3.10/site-packages (from bertopic) (1.26.4)\n",
      "Requirement already satisfied: pandas>=1.1.5 in /opt/conda/lib/python3.10/site-packages (from bertopic) (2.2.2)\n",
      "Requirement already satisfied: plotly>=4.7.0 in /opt/conda/lib/python3.10/site-packages (from bertopic) (5.22.0)\n",
      "Requirement already satisfied: scikit-learn>=0.22.2.post1 in /opt/conda/lib/python3.10/site-packages (from bertopic) (1.2.2)\n",
      "Collecting sentence-transformers>=0.4.1 (from bertopic)\n",
      "  Downloading sentence_transformers-3.3.1-py3-none-any.whl.metadata (10 kB)\n",
      "Requirement already satisfied: tqdm>=4.41.1 in /opt/conda/lib/python3.10/site-packages (from bertopic) (4.66.4)\n",
      "Collecting umap-learn>=0.5.0 (from bertopic)\n",
      "  Downloading umap_learn-0.5.7-py3-none-any.whl.metadata (21 kB)\n",
      "Requirement already satisfied: scipy>=1.0 in /opt/conda/lib/python3.10/site-packages (from hdbscan>=0.8.29->bertopic) (1.14.1)\n",
      "Requirement already satisfied: joblib>=1.0 in /opt/conda/lib/python3.10/site-packages (from hdbscan>=0.8.29->bertopic) (1.4.2)\n",
      "Requirement already satisfied: python-dateutil>=2.8.2 in /opt/conda/lib/python3.10/site-packages (from pandas>=1.1.5->bertopic) (2.9.0.post0)\n",
      "Requirement already satisfied: pytz>=2020.1 in /opt/conda/lib/python3.10/site-packages (from pandas>=1.1.5->bertopic) (2024.1)\n",
      "Requirement already satisfied: tzdata>=2022.7 in /opt/conda/lib/python3.10/site-packages (from pandas>=1.1.5->bertopic) (2024.1)\n",
      "Requirement already satisfied: tenacity>=6.2.0 in /opt/conda/lib/python3.10/site-packages (from plotly>=4.7.0->bertopic) (8.3.0)\n",
      "Requirement already satisfied: packaging in /opt/conda/lib/python3.10/site-packages (from plotly>=4.7.0->bertopic) (21.3)\n",
      "Requirement already satisfied: threadpoolctl>=2.0.0 in /opt/conda/lib/python3.10/site-packages (from scikit-learn>=0.22.2.post1->bertopic) (3.5.0)\n",
      "Requirement already satisfied: transformers<5.0.0,>=4.41.0 in /opt/conda/lib/python3.10/site-packages (from sentence-transformers>=0.4.1->bertopic) (4.45.1)\n",
      "Requirement already satisfied: torch>=1.11.0 in /opt/conda/lib/python3.10/site-packages (from sentence-transformers>=0.4.1->bertopic) (2.4.0)\n",
      "Requirement already satisfied: huggingface-hub>=0.20.0 in /opt/conda/lib/python3.10/site-packages (from sentence-transformers>=0.4.1->bertopic) (0.25.1)\n",
      "Requirement already satisfied: Pillow in /opt/conda/lib/python3.10/site-packages (from sentence-transformers>=0.4.1->bertopic) (10.3.0)\n",
      "Requirement already satisfied: numba>=0.51.2 in /opt/conda/lib/python3.10/site-packages (from umap-learn>=0.5.0->bertopic) (0.60.0)\n",
      "Collecting pynndescent>=0.5 (from umap-learn>=0.5.0->bertopic)\n",
      "  Downloading pynndescent-0.5.13-py3-none-any.whl.metadata (6.8 kB)\n",
      "Requirement already satisfied: filelock in /opt/conda/lib/python3.10/site-packages (from huggingface-hub>=0.20.0->sentence-transformers>=0.4.1->bertopic) (3.15.1)\n",
      "Requirement already satisfied: fsspec>=2023.5.0 in /opt/conda/lib/python3.10/site-packages (from huggingface-hub>=0.20.0->sentence-transformers>=0.4.1->bertopic) (2024.6.1)\n",
      "Requirement already satisfied: pyyaml>=5.1 in /opt/conda/lib/python3.10/site-packages (from huggingface-hub>=0.20.0->sentence-transformers>=0.4.1->bertopic) (6.0.2)\n",
      "Requirement already satisfied: requests in /opt/conda/lib/python3.10/site-packages (from huggingface-hub>=0.20.0->sentence-transformers>=0.4.1->bertopic) (2.32.3)\n",
      "Requirement already satisfied: typing-extensions>=3.7.4.3 in /opt/conda/lib/python3.10/site-packages (from huggingface-hub>=0.20.0->sentence-transformers>=0.4.1->bertopic) (4.12.2)\n",
      "Requirement already satisfied: llvmlite<0.44,>=0.43.0dev0 in /opt/conda/lib/python3.10/site-packages (from numba>=0.51.2->umap-learn>=0.5.0->bertopic) (0.43.0)\n",
      "Requirement already satisfied: pyparsing!=3.0.5,>=2.0.2 in /opt/conda/lib/python3.10/site-packages (from packaging->plotly>=4.7.0->bertopic) (3.1.2)\n",
      "Requirement already satisfied: six>=1.5 in /opt/conda/lib/python3.10/site-packages (from python-dateutil>=2.8.2->pandas>=1.1.5->bertopic) (1.16.0)\n",
      "Requirement already satisfied: sympy in /opt/conda/lib/python3.10/site-packages (from torch>=1.11.0->sentence-transformers>=0.4.1->bertopic) (1.13.3)\n",
      "Requirement already satisfied: networkx in /opt/conda/lib/python3.10/site-packages (from torch>=1.11.0->sentence-transformers>=0.4.1->bertopic) (3.3)\n",
      "Requirement already satisfied: jinja2 in /opt/conda/lib/python3.10/site-packages (from torch>=1.11.0->sentence-transformers>=0.4.1->bertopic) (3.1.4)\n",
      "Requirement already satisfied: regex!=2019.12.17 in /opt/conda/lib/python3.10/site-packages (from transformers<5.0.0,>=4.41.0->sentence-transformers>=0.4.1->bertopic) (2024.5.15)\n",
      "Requirement already satisfied: safetensors>=0.4.1 in /opt/conda/lib/python3.10/site-packages (from transformers<5.0.0,>=4.41.0->sentence-transformers>=0.4.1->bertopic) (0.4.5)\n",
      "Requirement already satisfied: tokenizers<0.21,>=0.20 in /opt/conda/lib/python3.10/site-packages (from transformers<5.0.0,>=4.41.0->sentence-transformers>=0.4.1->bertopic) (0.20.0)\n",
      "Requirement already satisfied: MarkupSafe>=2.0 in /opt/conda/lib/python3.10/site-packages (from jinja2->torch>=1.11.0->sentence-transformers>=0.4.1->bertopic) (2.1.5)\n",
      "Requirement already satisfied: charset-normalizer<4,>=2 in /opt/conda/lib/python3.10/site-packages (from requests->huggingface-hub>=0.20.0->sentence-transformers>=0.4.1->bertopic) (3.3.2)\n",
      "Requirement already satisfied: idna<4,>=2.5 in /opt/conda/lib/python3.10/site-packages (from requests->huggingface-hub>=0.20.0->sentence-transformers>=0.4.1->bertopic) (3.7)\n",
      "Requirement already satisfied: urllib3<3,>=1.21.1 in /opt/conda/lib/python3.10/site-packages (from requests->huggingface-hub>=0.20.0->sentence-transformers>=0.4.1->bertopic) (1.26.18)\n",
      "Requirement already satisfied: certifi>=2017.4.17 in /opt/conda/lib/python3.10/site-packages (from requests->huggingface-hub>=0.20.0->sentence-transformers>=0.4.1->bertopic) (2024.8.30)\n",
      "Requirement already satisfied: mpmath<1.4,>=1.1.0 in /opt/conda/lib/python3.10/site-packages (from sympy->torch>=1.11.0->sentence-transformers>=0.4.1->bertopic) (1.3.0)\n",
      "Downloading bertopic-0.16.4-py3-none-any.whl (143 kB)\n",
      "\u001b[2K   \u001b[90m━━━━━━━━━━━━━━━━━━━━━━━━━━━━━━━━━━━━━━━━\u001b[0m \u001b[32m143.7/143.7 kB\u001b[0m \u001b[31m7.5 MB/s\u001b[0m eta \u001b[36m0:00:00\u001b[0m\n",
      "\u001b[?25hDownloading hdbscan-0.8.40-cp310-cp310-manylinux_2_17_x86_64.manylinux2014_x86_64.whl (4.2 MB)\n",
      "\u001b[2K   \u001b[90m━━━━━━━━━━━━━━━━━━━━━━━━━━━━━━━━━━━━━━━━\u001b[0m \u001b[32m4.2/4.2 MB\u001b[0m \u001b[31m75.3 MB/s\u001b[0m eta \u001b[36m0:00:00\u001b[0m:00:01\u001b[0m\n",
      "\u001b[?25hDownloading sentence_transformers-3.3.1-py3-none-any.whl (268 kB)\n",
      "\u001b[2K   \u001b[90m━━━━━━━━━━━━━━━━━━━━━━━━━━━━━━━━━━━━━━━━\u001b[0m \u001b[32m268.8/268.8 kB\u001b[0m \u001b[31m21.4 MB/s\u001b[0m eta \u001b[36m0:00:00\u001b[0m\n",
      "\u001b[?25hDownloading umap_learn-0.5.7-py3-none-any.whl (88 kB)\n",
      "\u001b[2K   \u001b[90m━━━━━━━━━━━━━━━━━━━━━━━━━━━━━━━━━━━━━━━━\u001b[0m \u001b[32m88.8/88.8 kB\u001b[0m \u001b[31m7.2 MB/s\u001b[0m eta \u001b[36m0:00:00\u001b[0m\n",
      "\u001b[?25hDownloading pynndescent-0.5.13-py3-none-any.whl (56 kB)\n",
      "\u001b[2K   \u001b[90m━━━━━━━━━━━━━━━━━━━━━━━━━━━━━━━━━━━━━━━━\u001b[0m \u001b[32m56.9/56.9 kB\u001b[0m \u001b[31m4.1 MB/s\u001b[0m eta \u001b[36m0:00:00\u001b[0m\n",
      "\u001b[?25hInstalling collected packages: pynndescent, hdbscan, umap-learn, sentence-transformers, bertopic\n",
      "Successfully installed bertopic-0.16.4 hdbscan-0.8.40 pynndescent-0.5.13 sentence-transformers-3.3.1 umap-learn-0.5.7\n",
      "Note: you may need to restart the kernel to use updated packages.\n"
     ]
    }
   ],
   "source": [
    "pip install --upgrade bertopic"
   ]
  },
  {
   "cell_type": "code",
   "execution_count": 2,
   "metadata": {
    "execution": {
     "iopub.execute_input": "2024-11-28T19:31:58.737339Z",
     "iopub.status.busy": "2024-11-28T19:31:58.737099Z",
     "iopub.status.idle": "2024-11-28T19:32:11.411796Z",
     "shell.execute_reply": "2024-11-28T19:32:11.410503Z",
     "shell.execute_reply.started": "2024-11-28T19:31:58.737315Z"
    },
    "trusted": true
   },
   "outputs": [],
   "source": [
    "%%capture\n",
    "!pip install bertopic accelerate bitsandbytes adjustText"
   ]
  },
  {
   "cell_type": "code",
   "execution_count": 3,
   "metadata": {
    "execution": {
     "iopub.execute_input": "2024-11-28T19:32:11.413713Z",
     "iopub.status.busy": "2024-11-28T19:32:11.413298Z",
     "iopub.status.idle": "2024-11-28T19:32:14.248686Z",
     "shell.execute_reply": "2024-11-28T19:32:14.247835Z",
     "shell.execute_reply.started": "2024-11-28T19:32:11.413668Z"
    },
    "trusted": true
   },
   "outputs": [
    {
     "name": "stdout",
     "output_type": "stream",
     "text": [
      "Collecting xformers\n",
      "  Downloading xformers-0.0.28.post3-cp310-cp310-manylinux_2_28_x86_64.whl.metadata (1.0 kB)\n",
      "Downloading xformers-0.0.28.post3-cp310-cp310-manylinux_2_28_x86_64.whl (16.7 MB)\n",
      "\u001b[2K   \u001b[90m━━━━━━━━━━━━━━━━━━━━━━━━━━━━━━━━━━━━━━━━\u001b[0m \u001b[32m16.7/16.7 MB\u001b[0m \u001b[31m91.7 MB/s\u001b[0m eta \u001b[36m0:00:00\u001b[0m:00:01\u001b[0m00:01\u001b[0m\n",
      "\u001b[?25hInstalling collected packages: xformers\n",
      "Successfully installed xformers-0.0.28.post3\n"
     ]
    }
   ],
   "source": [
    "!pip install --no-deps xformers"
   ]
  },
  {
   "cell_type": "code",
   "execution_count": 4,
   "metadata": {
    "execution": {
     "iopub.execute_input": "2024-11-28T19:32:14.250962Z",
     "iopub.status.busy": "2024-11-28T19:32:14.250684Z",
     "iopub.status.idle": "2024-11-28T19:32:22.420237Z",
     "shell.execute_reply": "2024-11-28T19:32:22.419214Z",
     "shell.execute_reply.started": "2024-11-28T19:32:14.250936Z"
    },
    "trusted": true
   },
   "outputs": [
    {
     "name": "stdout",
     "output_type": "stream",
     "text": [
      "Requirement already satisfied: sentence-transformers in /opt/conda/lib/python3.10/site-packages (3.3.1)\n",
      "Requirement already satisfied: transformers<5.0.0,>=4.41.0 in /opt/conda/lib/python3.10/site-packages (from sentence-transformers) (4.45.1)\n",
      "Requirement already satisfied: tqdm in /opt/conda/lib/python3.10/site-packages (from sentence-transformers) (4.66.4)\n",
      "Requirement already satisfied: torch>=1.11.0 in /opt/conda/lib/python3.10/site-packages (from sentence-transformers) (2.4.0)\n",
      "Requirement already satisfied: scikit-learn in /opt/conda/lib/python3.10/site-packages (from sentence-transformers) (1.2.2)\n",
      "Requirement already satisfied: scipy in /opt/conda/lib/python3.10/site-packages (from sentence-transformers) (1.14.1)\n",
      "Requirement already satisfied: huggingface-hub>=0.20.0 in /opt/conda/lib/python3.10/site-packages (from sentence-transformers) (0.25.1)\n",
      "Requirement already satisfied: Pillow in /opt/conda/lib/python3.10/site-packages (from sentence-transformers) (10.3.0)\n",
      "Requirement already satisfied: filelock in /opt/conda/lib/python3.10/site-packages (from huggingface-hub>=0.20.0->sentence-transformers) (3.15.1)\n",
      "Requirement already satisfied: fsspec>=2023.5.0 in /opt/conda/lib/python3.10/site-packages (from huggingface-hub>=0.20.0->sentence-transformers) (2024.6.1)\n",
      "Requirement already satisfied: packaging>=20.9 in /opt/conda/lib/python3.10/site-packages (from huggingface-hub>=0.20.0->sentence-transformers) (21.3)\n",
      "Requirement already satisfied: pyyaml>=5.1 in /opt/conda/lib/python3.10/site-packages (from huggingface-hub>=0.20.0->sentence-transformers) (6.0.2)\n",
      "Requirement already satisfied: requests in /opt/conda/lib/python3.10/site-packages (from huggingface-hub>=0.20.0->sentence-transformers) (2.32.3)\n",
      "Requirement already satisfied: typing-extensions>=3.7.4.3 in /opt/conda/lib/python3.10/site-packages (from huggingface-hub>=0.20.0->sentence-transformers) (4.12.2)\n",
      "Requirement already satisfied: sympy in /opt/conda/lib/python3.10/site-packages (from torch>=1.11.0->sentence-transformers) (1.13.3)\n",
      "Requirement already satisfied: networkx in /opt/conda/lib/python3.10/site-packages (from torch>=1.11.0->sentence-transformers) (3.3)\n",
      "Requirement already satisfied: jinja2 in /opt/conda/lib/python3.10/site-packages (from torch>=1.11.0->sentence-transformers) (3.1.4)\n",
      "Requirement already satisfied: numpy>=1.17 in /opt/conda/lib/python3.10/site-packages (from transformers<5.0.0,>=4.41.0->sentence-transformers) (1.26.4)\n",
      "Requirement already satisfied: regex!=2019.12.17 in /opt/conda/lib/python3.10/site-packages (from transformers<5.0.0,>=4.41.0->sentence-transformers) (2024.5.15)\n",
      "Requirement already satisfied: safetensors>=0.4.1 in /opt/conda/lib/python3.10/site-packages (from transformers<5.0.0,>=4.41.0->sentence-transformers) (0.4.5)\n",
      "Requirement already satisfied: tokenizers<0.21,>=0.20 in /opt/conda/lib/python3.10/site-packages (from transformers<5.0.0,>=4.41.0->sentence-transformers) (0.20.0)\n",
      "Requirement already satisfied: joblib>=1.1.1 in /opt/conda/lib/python3.10/site-packages (from scikit-learn->sentence-transformers) (1.4.2)\n",
      "Requirement already satisfied: threadpoolctl>=2.0.0 in /opt/conda/lib/python3.10/site-packages (from scikit-learn->sentence-transformers) (3.5.0)\n",
      "Requirement already satisfied: pyparsing!=3.0.5,>=2.0.2 in /opt/conda/lib/python3.10/site-packages (from packaging>=20.9->huggingface-hub>=0.20.0->sentence-transformers) (3.1.2)\n",
      "Requirement already satisfied: MarkupSafe>=2.0 in /opt/conda/lib/python3.10/site-packages (from jinja2->torch>=1.11.0->sentence-transformers) (2.1.5)\n",
      "Requirement already satisfied: charset-normalizer<4,>=2 in /opt/conda/lib/python3.10/site-packages (from requests->huggingface-hub>=0.20.0->sentence-transformers) (3.3.2)\n",
      "Requirement already satisfied: idna<4,>=2.5 in /opt/conda/lib/python3.10/site-packages (from requests->huggingface-hub>=0.20.0->sentence-transformers) (3.7)\n",
      "Requirement already satisfied: urllib3<3,>=1.21.1 in /opt/conda/lib/python3.10/site-packages (from requests->huggingface-hub>=0.20.0->sentence-transformers) (1.26.18)\n",
      "Requirement already satisfied: certifi>=2017.4.17 in /opt/conda/lib/python3.10/site-packages (from requests->huggingface-hub>=0.20.0->sentence-transformers) (2024.8.30)\n",
      "Requirement already satisfied: mpmath<1.4,>=1.1.0 in /opt/conda/lib/python3.10/site-packages (from sympy->torch>=1.11.0->sentence-transformers) (1.3.0)\n",
      "Note: you may need to restart the kernel to use updated packages.\n"
     ]
    }
   ],
   "source": [
    "pip install --upgrade sentence-transformers"
   ]
  },
  {
   "cell_type": "code",
   "execution_count": 5,
   "metadata": {
    "execution": {
     "iopub.execute_input": "2024-11-28T19:32:22.421747Z",
     "iopub.status.busy": "2024-11-28T19:32:22.421457Z",
     "iopub.status.idle": "2024-11-28T19:32:30.471306Z",
     "shell.execute_reply": "2024-11-28T19:32:30.470341Z",
     "shell.execute_reply.started": "2024-11-28T19:32:22.421718Z"
    },
    "trusted": true
   },
   "outputs": [
    {
     "name": "stdout",
     "output_type": "stream",
     "text": [
      "Requirement already satisfied: bitsandbytes in /opt/conda/lib/python3.10/site-packages (0.44.1)\n",
      "Requirement already satisfied: torch in /opt/conda/lib/python3.10/site-packages (from bitsandbytes) (2.4.0)\n",
      "Requirement already satisfied: numpy in /opt/conda/lib/python3.10/site-packages (from bitsandbytes) (1.26.4)\n",
      "Requirement already satisfied: filelock in /opt/conda/lib/python3.10/site-packages (from torch->bitsandbytes) (3.15.1)\n",
      "Requirement already satisfied: typing-extensions>=4.8.0 in /opt/conda/lib/python3.10/site-packages (from torch->bitsandbytes) (4.12.2)\n",
      "Requirement already satisfied: sympy in /opt/conda/lib/python3.10/site-packages (from torch->bitsandbytes) (1.13.3)\n",
      "Requirement already satisfied: networkx in /opt/conda/lib/python3.10/site-packages (from torch->bitsandbytes) (3.3)\n",
      "Requirement already satisfied: jinja2 in /opt/conda/lib/python3.10/site-packages (from torch->bitsandbytes) (3.1.4)\n",
      "Requirement already satisfied: fsspec in /opt/conda/lib/python3.10/site-packages (from torch->bitsandbytes) (2024.6.1)\n",
      "Requirement already satisfied: MarkupSafe>=2.0 in /opt/conda/lib/python3.10/site-packages (from jinja2->torch->bitsandbytes) (2.1.5)\n",
      "Requirement already satisfied: mpmath<1.4,>=1.1.0 in /opt/conda/lib/python3.10/site-packages (from sympy->torch->bitsandbytes) (1.3.0)\n",
      "Note: you may need to restart the kernel to use updated packages.\n"
     ]
    }
   ],
   "source": [
    "pip install -U bitsandbytes"
   ]
  },
  {
   "cell_type": "code",
   "execution_count": 6,
   "metadata": {
    "execution": {
     "iopub.execute_input": "2024-11-28T19:32:30.473745Z",
     "iopub.status.busy": "2024-11-28T19:32:30.472868Z",
     "iopub.status.idle": "2024-11-28T19:32:38.679525Z",
     "shell.execute_reply": "2024-11-28T19:32:38.678566Z",
     "shell.execute_reply.started": "2024-11-28T19:32:30.473701Z"
    },
    "trusted": true
   },
   "outputs": [
    {
     "name": "stdout",
     "output_type": "stream",
     "text": [
      "Collecting einops\n",
      "  Downloading einops-0.8.0-py3-none-any.whl.metadata (12 kB)\n",
      "Downloading einops-0.8.0-py3-none-any.whl (43 kB)\n",
      "\u001b[2K   \u001b[90m━━━━━━━━━━━━━━━━━━━━━━━━━━━━━━━━━━━━━━━━\u001b[0m \u001b[32m43.2/43.2 kB\u001b[0m \u001b[31m2.1 MB/s\u001b[0m eta \u001b[36m0:00:00\u001b[0m\n",
      "\u001b[?25hInstalling collected packages: einops\n",
      "Successfully installed einops-0.8.0\n",
      "Note: you may need to restart the kernel to use updated packages.\n"
     ]
    }
   ],
   "source": [
    "pip install einops"
   ]
  },
  {
   "cell_type": "code",
   "execution_count": 7,
   "metadata": {
    "execution": {
     "iopub.execute_input": "2024-11-28T19:32:38.681185Z",
     "iopub.status.busy": "2024-11-28T19:32:38.680907Z",
     "iopub.status.idle": "2024-11-28T19:33:16.370766Z",
     "shell.execute_reply": "2024-11-28T19:33:16.369852Z",
     "shell.execute_reply.started": "2024-11-28T19:32:38.681158Z"
    },
    "trusted": true
   },
   "outputs": [],
   "source": [
    "import pandas as pd\n",
    "import matplotlib.pyplot as plt\n",
    "import re\n",
    "import seaborn as sns\n",
    "from huggingface_hub import notebook_login\n",
    "from torch import bfloat16\n",
    "import transformers\n",
    "from huggingface_hub import HfFolder\n",
    "from sentence_transformers import SentenceTransformer\n",
    "from sentence_transformers.quantization import quantize_embeddings\n",
    "from bertopic.dimensionality import BaseDimensionalityReduction\n",
    "from sklearn.decomposition import PCA\n",
    "from umap import UMAP\n",
    "from hdbscan import HDBSCAN\n",
    "from sklearn.cluster import KMeans\n",
    "from cuml.cluster import HDBSCAN\n",
    "from sklearn.feature_extraction.text import CountVectorizer\n",
    "from bertopic import BERTopic\n",
    "from bertopic.representation import KeyBERTInspired, MaximalMarginalRelevance, TextGeneration"
   ]
  },
  {
   "cell_type": "code",
   "execution_count": null,
   "metadata": {
    "execution": {
     "iopub.execute_input": "2024-11-28T19:33:16.372822Z",
     "iopub.status.busy": "2024-11-28T19:33:16.371914Z",
     "iopub.status.idle": "2024-11-28T19:33:16.376559Z",
     "shell.execute_reply": "2024-11-28T19:33:16.375829Z",
     "shell.execute_reply.started": "2024-11-28T19:33:16.372789Z"
    },
    "trusted": true
   },
   "outputs": [],
   "source": [
    "notebook_login()"
   ]
  },
  {
   "cell_type": "markdown",
   "metadata": {},
   "source": [
    "# Embeddings and selection of text"
   ]
  },
  {
   "cell_type": "code",
   "execution_count": 10,
   "metadata": {
    "execution": {
     "iopub.execute_input": "2024-11-28T19:33:16.389260Z",
     "iopub.status.busy": "2024-11-28T19:33:16.388980Z",
     "iopub.status.idle": "2024-11-28T19:33:16.534341Z",
     "shell.execute_reply": "2024-11-28T19:33:16.533704Z",
     "shell.execute_reply.started": "2024-11-28T19:33:16.389236Z"
    },
    "trusted": true
   },
   "outputs": [],
   "source": [
    "review = pd.read_csv('/kaggle/input/llm-results/final_llm_analysis_data.csv')"
   ]
  },
  {
   "cell_type": "code",
   "execution_count": null,
   "metadata": {
    "execution": {
     "iopub.execute_input": "2024-11-28T19:33:16.535718Z",
     "iopub.status.busy": "2024-11-28T19:33:16.535376Z",
     "iopub.status.idle": "2024-11-28T19:33:16.539813Z",
     "shell.execute_reply": "2024-11-28T19:33:16.538913Z",
     "shell.execute_reply.started": "2024-11-28T19:33:16.535683Z"
    },
    "trusted": true
   },
   "outputs": [],
   "source": [
    "reviews=review[review['json_Transparency']=='Yes']['json_Transparency_think']"
   ]
  },
  {
   "cell_type": "code",
   "execution_count": 128,
   "metadata": {
    "execution": {
     "iopub.execute_input": "2024-11-28T20:30:00.370019Z",
     "iopub.status.busy": "2024-11-28T20:30:00.369711Z",
     "iopub.status.idle": "2024-11-28T20:30:04.099641Z",
     "shell.execute_reply": "2024-11-28T20:30:04.098768Z",
     "shell.execute_reply.started": "2024-11-28T20:30:00.369994Z"
    },
    "trusted": true
   },
   "outputs": [],
   "source": [
    "embedding_model = SentenceTransformer('Lajavaness/bilingual-embedding-large-8k', trust_remote_code=True)"
   ]
  },
  {
   "cell_type": "code",
   "execution_count": 336,
   "metadata": {
    "execution": {
     "iopub.execute_input": "2024-11-28T23:20:45.366958Z",
     "iopub.status.busy": "2024-11-28T23:20:45.366608Z",
     "iopub.status.idle": "2024-11-28T23:20:51.935182Z",
     "shell.execute_reply": "2024-11-28T23:20:51.934502Z",
     "shell.execute_reply.started": "2024-11-28T23:20:45.366928Z"
    },
    "trusted": true
   },
   "outputs": [
    {
     "data": {
      "application/vnd.jupyter.widget-view+json": {
       "model_id": "1cb88852235443f8a6470ed70d6075cb",
       "version_major": 2,
       "version_minor": 0
      },
      "text/plain": [
       "Batches:   0%|          | 0/23 [00:00<?, ?it/s]"
      ]
     },
     "metadata": {},
     "output_type": "display_data"
    }
   ],
   "source": [
    "embeddings = embedding_model.encode(reviews, show_progress_bar=True)\n",
    "embeddings_quant=  quantize_embeddings(embeddings,precision='uint8')"
   ]
  },
  {
   "cell_type": "code",
   "execution_count": 14,
   "metadata": {
    "execution": {
     "iopub.execute_input": "2024-11-28T19:34:22.471919Z",
     "iopub.status.busy": "2024-11-28T19:34:22.471540Z",
     "iopub.status.idle": "2024-11-28T19:35:43.798449Z",
     "shell.execute_reply": "2024-11-28T19:35:43.797290Z",
     "shell.execute_reply.started": "2024-11-28T19:34:22.471880Z"
    },
    "trusted": true
   },
   "outputs": [
    {
     "data": {
      "application/vnd.jupyter.widget-view+json": {
       "model_id": "caf197bd1ca14013899e6f7d6cd61d7c",
       "version_major": 2,
       "version_minor": 0
      },
      "text/plain": [
       "tokenizer_config.json:   0%|          | 0.00/1.62k [00:00<?, ?B/s]"
      ]
     },
     "metadata": {},
     "output_type": "display_data"
    },
    {
     "data": {
      "application/vnd.jupyter.widget-view+json": {
       "model_id": "6a7cf6817c99476eb6055904d5793859",
       "version_major": 2,
       "version_minor": 0
      },
      "text/plain": [
       "tokenizer.model:   0%|          | 0.00/500k [00:00<?, ?B/s]"
      ]
     },
     "metadata": {},
     "output_type": "display_data"
    },
    {
     "data": {
      "application/vnd.jupyter.widget-view+json": {
       "model_id": "8330f203669641b087e9e57563525622",
       "version_major": 2,
       "version_minor": 0
      },
      "text/plain": [
       "tokenizer.json:   0%|          | 0.00/1.84M [00:00<?, ?B/s]"
      ]
     },
     "metadata": {},
     "output_type": "display_data"
    },
    {
     "data": {
      "application/vnd.jupyter.widget-view+json": {
       "model_id": "1dac51923e574535b29b6363f207fe43",
       "version_major": 2,
       "version_minor": 0
      },
      "text/plain": [
       "special_tokens_map.json:   0%|          | 0.00/414 [00:00<?, ?B/s]"
      ]
     },
     "metadata": {},
     "output_type": "display_data"
    },
    {
     "data": {
      "application/vnd.jupyter.widget-view+json": {
       "model_id": "50499e36362e44f9ac799f4a2b7c9e94",
       "version_major": 2,
       "version_minor": 0
      },
      "text/plain": [
       "config.json:   0%|          | 0.00/614 [00:00<?, ?B/s]"
      ]
     },
     "metadata": {},
     "output_type": "display_data"
    },
    {
     "data": {
      "application/vnd.jupyter.widget-view+json": {
       "model_id": "303df68ff77c4589bcaf13c16e4cce4d",
       "version_major": 2,
       "version_minor": 0
      },
      "text/plain": [
       "model.safetensors.index.json:   0%|          | 0.00/26.8k [00:00<?, ?B/s]"
      ]
     },
     "metadata": {},
     "output_type": "display_data"
    },
    {
     "data": {
      "application/vnd.jupyter.widget-view+json": {
       "model_id": "597b4c7052064e01a5b63d9c6eabcbbc",
       "version_major": 2,
       "version_minor": 0
      },
      "text/plain": [
       "Downloading shards:   0%|          | 0/2 [00:00<?, ?it/s]"
      ]
     },
     "metadata": {},
     "output_type": "display_data"
    },
    {
     "data": {
      "application/vnd.jupyter.widget-view+json": {
       "model_id": "3f19117aeefb4836ae60795f6f8be496",
       "version_major": 2,
       "version_minor": 0
      },
      "text/plain": [
       "model-00001-of-00002.safetensors:   0%|          | 0.00/9.98G [00:00<?, ?B/s]"
      ]
     },
     "metadata": {},
     "output_type": "display_data"
    },
    {
     "data": {
      "application/vnd.jupyter.widget-view+json": {
       "model_id": "199cda420d884bfc82f165db4bfa1bb7",
       "version_major": 2,
       "version_minor": 0
      },
      "text/plain": [
       "model-00002-of-00002.safetensors:   0%|          | 0.00/3.50G [00:00<?, ?B/s]"
      ]
     },
     "metadata": {},
     "output_type": "display_data"
    },
    {
     "data": {
      "application/vnd.jupyter.widget-view+json": {
       "model_id": "1339d97522ff4941b7d8dec966e69129",
       "version_major": 2,
       "version_minor": 0
      },
      "text/plain": [
       "Loading checkpoint shards:   0%|          | 0/2 [00:00<?, ?it/s]"
      ]
     },
     "metadata": {},
     "output_type": "display_data"
    },
    {
     "data": {
      "application/vnd.jupyter.widget-view+json": {
       "model_id": "b1fb1f9384814d6091505ce3381039fa",
       "version_major": 2,
       "version_minor": 0
      },
      "text/plain": [
       "generation_config.json:   0%|          | 0.00/188 [00:00<?, ?B/s]"
      ]
     },
     "metadata": {},
     "output_type": "display_data"
    },
    {
     "data": {
      "text/plain": [
       "LlamaForCausalLM(\n",
       "  (model): LlamaModel(\n",
       "    (embed_tokens): Embedding(32000, 4096)\n",
       "    (layers): ModuleList(\n",
       "      (0-31): 32 x LlamaDecoderLayer(\n",
       "        (self_attn): LlamaSdpaAttention(\n",
       "          (q_proj): Linear4bit(in_features=4096, out_features=4096, bias=False)\n",
       "          (k_proj): Linear4bit(in_features=4096, out_features=4096, bias=False)\n",
       "          (v_proj): Linear4bit(in_features=4096, out_features=4096, bias=False)\n",
       "          (o_proj): Linear4bit(in_features=4096, out_features=4096, bias=False)\n",
       "          (rotary_emb): LlamaRotaryEmbedding()\n",
       "        )\n",
       "        (mlp): LlamaMLP(\n",
       "          (gate_proj): Linear4bit(in_features=4096, out_features=11008, bias=False)\n",
       "          (up_proj): Linear4bit(in_features=4096, out_features=11008, bias=False)\n",
       "          (down_proj): Linear4bit(in_features=11008, out_features=4096, bias=False)\n",
       "          (act_fn): SiLU()\n",
       "        )\n",
       "        (input_layernorm): LlamaRMSNorm((4096,), eps=1e-05)\n",
       "        (post_attention_layernorm): LlamaRMSNorm((4096,), eps=1e-05)\n",
       "      )\n",
       "    )\n",
       "    (norm): LlamaRMSNorm((4096,), eps=1e-05)\n",
       "    (rotary_emb): LlamaRotaryEmbedding()\n",
       "  )\n",
       "  (lm_head): Linear(in_features=4096, out_features=32000, bias=False)\n",
       ")"
      ]
     },
     "execution_count": 14,
     "metadata": {},
     "output_type": "execute_result"
    }
   ],
   "source": [
    "model_id = 'meta-llama/Llama-2-7b-chat-hf'\n",
    "#model_id = 'meta-llama/Llama-3.2-1B'\n",
    "bnb_config = transformers.BitsAndBytesConfig(\n",
    "    load_in_4bit=True,  # 4-bit quantization\n",
    "    bnb_4bit_quant_type='nf4',  # Normalized float 4\n",
    "    bnb_4bit_use_double_quant=True,  # Second quantization after the first\n",
    "    bnb_4bit_compute_dtype=bfloat16  # Computation type\n",
    ")\n",
    "tokenizer = transformers.AutoTokenizer.from_pretrained(model_id)\n",
    "model = transformers.AutoModelForCausalLM.from_pretrained(\n",
    "    model_id,\n",
    "    trust_remote_code=True,\n",
    "    quantization_config=bnb_config,\n",
    "    device_map='auto',\n",
    ")\n",
    "model.eval()"
   ]
  },
  {
   "cell_type": "code",
   "execution_count": null,
   "metadata": {
    "execution": {
     "iopub.execute_input": "2024-11-28T20:03:56.969059Z",
     "iopub.status.busy": "2024-11-28T20:03:56.968713Z",
     "iopub.status.idle": "2024-11-28T20:03:56.973978Z",
     "shell.execute_reply": "2024-11-28T20:03:56.973068Z",
     "shell.execute_reply.started": "2024-11-28T20:03:56.969029Z"
    },
    "trusted": true
   },
   "outputs": [],
   "source": [
    "generator = transformers.pipeline(\n",
    "    model=model, tokenizer=tokenizer,\n",
    "    task='text-generation',\n",
    "    temperature=0.01,\n",
    "    repetition_penalty=1.1,\n",
    "    device_map=\"auto\"\n",
    ")"
   ]
  },
  {
   "cell_type": "code",
   "execution_count": 87,
   "metadata": {
    "execution": {
     "iopub.execute_input": "2024-11-28T20:07:32.759708Z",
     "iopub.status.busy": "2024-11-28T20:07:32.759322Z",
     "iopub.status.idle": "2024-11-28T20:07:32.764592Z",
     "shell.execute_reply": "2024-11-28T20:07:32.763626Z",
     "shell.execute_reply.started": "2024-11-28T20:07:32.759679Z"
    },
    "trusted": true
   },
   "outputs": [],
   "source": [
    "system_prompt = \"\"\"\n",
    "<s>[INST] <<SYS>>\n",
    "You are a helpful, respectful and honest assistant for labeling topics.\n",
    "<</SYS>>\n",
    "\"\"\"\n",
    "example_prompt = \"\"\"\n",
    "I have a topic that contains the following texts:\n",
    "\n",
    "- Flow options to automate things\n",
    "- Chat bot AI and list of visitors, leads conversation\n",
    "- How we can interact with clients in real-time.\n",
    "\n",
    "There are some key phases relevant in each document that will be provided as: 'automate', 'lead conversation', 'interact with clients'\n",
    "\n",
    "Based on the information about the keywords provided above, please  can you condensate these keywords and get the relevant topic. Make sure to only return the label\n",
    "Here is the example of a Label: 'Automation marketing leads'\n",
    "\"\"\"\n",
    "main_prompt = \"\"\"\n",
    "[INST] \n",
    "    I have a topic that contains the following documents: [DOCUMENTS] \n",
    "    The topic is described by the following keywords: '[KEYWORDS]'.\n",
    "Instructions:\n",
    "+ Based on the topic information above, please create the label\n",
    "+ Review your answer and only send the label \n",
    "+ Avoid send as your answer texts as 'Sure! Based on the information provided'\n",
    "+ Only send the label\n",
    "\n",
    "[/INST]\n",
    "\"\"\"\n",
    "\n",
    "prompt = system_prompt + example_prompt + main_prompt"
   ]
  },
  {
   "cell_type": "markdown",
   "metadata": {},
   "source": [
    "# Definition of dimentionality Reduction"
   ]
  },
  {
   "cell_type": "code",
   "execution_count": 17,
   "metadata": {
    "execution": {
     "iopub.execute_input": "2024-11-28T19:35:47.354770Z",
     "iopub.status.busy": "2024-11-28T19:35:47.354122Z",
     "iopub.status.idle": "2024-11-28T19:35:47.866570Z",
     "shell.execute_reply": "2024-11-28T19:35:47.865770Z",
     "shell.execute_reply.started": "2024-11-28T19:35:47.354714Z"
    },
    "trusted": true
   },
   "outputs": [],
   "source": [
    "no_dim = BaseDimensionalityReduction()"
   ]
  },
  {
   "cell_type": "code",
   "execution_count": 338,
   "metadata": {
    "execution": {
     "iopub.execute_input": "2024-11-28T23:21:43.604481Z",
     "iopub.status.busy": "2024-11-28T23:21:43.603826Z",
     "iopub.status.idle": "2024-11-28T23:21:43.608328Z",
     "shell.execute_reply": "2024-11-28T23:21:43.607382Z",
     "shell.execute_reply.started": "2024-11-28T23:21:43.604449Z"
    },
    "trusted": true
   },
   "outputs": [],
   "source": [
    "pca_model = PCA(n_components=0.85)"
   ]
  },
  {
   "cell_type": "code",
   "execution_count": 19,
   "metadata": {
    "execution": {
     "iopub.execute_input": "2024-11-28T19:35:47.878308Z",
     "iopub.status.busy": "2024-11-28T19:35:47.878067Z",
     "iopub.status.idle": "2024-11-28T19:35:47.887086Z",
     "shell.execute_reply": "2024-11-28T19:35:47.886371Z",
     "shell.execute_reply.started": "2024-11-28T19:35:47.878284Z"
    },
    "trusted": true
   },
   "outputs": [],
   "source": [
    "umap_model = UMAP(n_components=6,n_neighbors=15, metric='cosine')"
   ]
  },
  {
   "cell_type": "markdown",
   "metadata": {},
   "source": [
    "# Clustering defintion"
   ]
  },
  {
   "cell_type": "code",
   "execution_count": 20,
   "metadata": {
    "execution": {
     "iopub.execute_input": "2024-11-28T19:35:47.888257Z",
     "iopub.status.busy": "2024-11-28T19:35:47.888012Z",
     "iopub.status.idle": "2024-11-28T19:35:47.899411Z",
     "shell.execute_reply": "2024-11-28T19:35:47.898588Z",
     "shell.execute_reply.started": "2024-11-28T19:35:47.888234Z"
    },
    "trusted": true
   },
   "outputs": [],
   "source": [
    "hdbscan_model = HDBSCAN(min_cluster_size=8, prediction_data=True)"
   ]
  },
  {
   "cell_type": "code",
   "execution_count": 344,
   "metadata": {
    "execution": {
     "iopub.execute_input": "2024-11-28T23:24:28.215098Z",
     "iopub.status.busy": "2024-11-28T23:24:28.214767Z",
     "iopub.status.idle": "2024-11-28T23:24:28.219355Z",
     "shell.execute_reply": "2024-11-28T23:24:28.218349Z",
     "shell.execute_reply.started": "2024-11-28T23:24:28.215073Z"
    },
    "trusted": true
   },
   "outputs": [],
   "source": [
    "kmean_model = KMeans(n_clusters=12)#n_clusters=12"
   ]
  },
  {
   "cell_type": "code",
   "execution_count": 22,
   "metadata": {
    "execution": {
     "iopub.execute_input": "2024-11-28T19:35:47.913172Z",
     "iopub.status.busy": "2024-11-28T19:35:47.912845Z",
     "iopub.status.idle": "2024-11-28T19:35:47.921665Z",
     "shell.execute_reply": "2024-11-28T19:35:47.921058Z",
     "shell.execute_reply.started": "2024-11-28T19:35:47.913137Z"
    },
    "trusted": true
   },
   "outputs": [],
   "source": [
    "cuml_model = HDBSCAN(min_samples=8, gen_min_span_tree=True, prediction_data=True)"
   ]
  },
  {
   "cell_type": "markdown",
   "metadata": {},
   "source": [
    "# Vector factorization"
   ]
  },
  {
   "cell_type": "code",
   "execution_count": 339,
   "metadata": {
    "execution": {
     "iopub.execute_input": "2024-11-28T23:21:51.429755Z",
     "iopub.status.busy": "2024-11-28T23:21:51.428872Z",
     "iopub.status.idle": "2024-11-28T23:21:51.433688Z",
     "shell.execute_reply": "2024-11-28T23:21:51.432723Z",
     "shell.execute_reply.started": "2024-11-28T23:21:51.429721Z"
    },
    "trusted": true
   },
   "outputs": [],
   "source": [
    "vectorizer_model = CountVectorizer(ngram_range=(1,4))"
   ]
  },
  {
   "cell_type": "markdown",
   "metadata": {},
   "source": [
    "# Representation"
   ]
  },
  {
   "cell_type": "code",
   "execution_count": 340,
   "metadata": {
    "execution": {
     "iopub.execute_input": "2024-11-28T23:21:53.577382Z",
     "iopub.status.busy": "2024-11-28T23:21:53.576469Z",
     "iopub.status.idle": "2024-11-28T23:21:53.582430Z",
     "shell.execute_reply": "2024-11-28T23:21:53.581537Z",
     "shell.execute_reply.started": "2024-11-28T23:21:53.577345Z"
    },
    "trusted": true
   },
   "outputs": [],
   "source": [
    "# KeyBERT\n",
    "keybert = KeyBERTInspired()\n",
    "\n",
    "# MMR\n",
    "mmr = MaximalMarginalRelevance(diversity=0.30)\n",
    "\n",
    "# Text generation with Llama 2\n",
    "llama2 = TextGeneration(generator, prompt=prompt)\n",
    "\n",
    "# All representation models\n",
    "representation_model = {\n",
    "    \"KeyBERT\": keybert,\n",
    "    \"Llama2\": llama2,\n",
    "    \"MMR\": mmr,\n",
    "}"
   ]
  },
  {
   "cell_type": "markdown",
   "metadata": {},
   "source": [
    "# Bertopic execution"
   ]
  },
  {
   "cell_type": "code",
   "execution_count": 345,
   "metadata": {
    "execution": {
     "iopub.execute_input": "2024-11-28T23:24:31.107417Z",
     "iopub.status.busy": "2024-11-28T23:24:31.106547Z",
     "iopub.status.idle": "2024-11-28T23:26:36.996329Z",
     "shell.execute_reply": "2024-11-28T23:26:36.995628Z",
     "shell.execute_reply.started": "2024-11-28T23:24:31.107380Z"
    },
    "trusted": true
   },
   "outputs": [
    {
     "name": "stderr",
     "output_type": "stream",
     "text": [
      "2024-11-28 23:24:31,111 - BERTopic - Dimensionality - Fitting the dimensionality reduction algorithm\n",
      "2024-11-28 23:24:31,392 - BERTopic - Dimensionality - Completed ✓\n",
      "2024-11-28 23:24:31,395 - BERTopic - Cluster - Start clustering the reduced embeddings\n",
      "2024-11-28 23:24:31,694 - BERTopic - Cluster - Completed ✓\n",
      "2024-11-28 23:24:31,699 - BERTopic - Representation - Extracting topics from clusters using representation models.\n",
      "100%|██████████| 12/12 [02:00<00:00, 10.03s/it]\n",
      "2024-11-28 23:26:36,833 - BERTopic - Representation - Completed ✓\n"
     ]
    }
   ],
   "source": [
    "topic_model_4 = BERTopic(\n",
    "                        umap_model= pca_model,#umap_model,no_dim,pca_model\n",
    "                        embedding_model=embedding_model,#language='french',\n",
    "                        calculate_probabilities= True,\n",
    "                        verbose=True,\n",
    "                        hdbscan_model=kmean_model,#kmean_model,hdbscan_model,cuml_model\n",
    "                        representation_model=representation_model,#representation_model,\n",
    "                        vectorizer_model = vectorizer_model,\n",
    "                        #top_n_words=10,\n",
    "                        min_topic_size= 10\n",
    "                       )\n",
    "topics_process, probs_process = topic_model_4.fit_transform(reviews, embeddings_quant)"
   ]
  },
  {
   "cell_type": "code",
   "execution_count": 346,
   "metadata": {
    "execution": {
     "iopub.execute_input": "2024-11-28T23:26:52.541614Z",
     "iopub.status.busy": "2024-11-28T23:26:52.540750Z",
     "iopub.status.idle": "2024-11-28T23:26:52.552100Z",
     "shell.execute_reply": "2024-11-28T23:26:52.551094Z",
     "shell.execute_reply.started": "2024-11-28T23:26:52.541567Z"
    },
    "trusted": true
   },
   "outputs": [],
   "source": [
    "llama2_labels = [label[0][0].split(\"\\n\")[0] for label in topic_model_4.get_topics(full=True)[\"Llama2\"].values()]\n",
    "topic_model_4.set_topic_labels(llama2_labels)\n",
    "topics_process_labels=topic_model_4.get_topic_info()"
   ]
  },
  {
   "cell_type": "code",
   "execution_count": 347,
   "metadata": {
    "execution": {
     "iopub.execute_input": "2024-11-28T23:26:55.652465Z",
     "iopub.status.busy": "2024-11-28T23:26:55.652116Z",
     "iopub.status.idle": "2024-11-28T23:26:55.668150Z",
     "shell.execute_reply": "2024-11-28T23:26:55.667159Z",
     "shell.execute_reply.started": "2024-11-28T23:26:55.652427Z"
    },
    "trusted": true
   },
   "outputs": [
    {
     "data": {
      "text/html": [
       "<div>\n",
       "<style scoped>\n",
       "    .dataframe tbody tr th:only-of-type {\n",
       "        vertical-align: middle;\n",
       "    }\n",
       "\n",
       "    .dataframe tbody tr th {\n",
       "        vertical-align: top;\n",
       "    }\n",
       "\n",
       "    .dataframe thead th {\n",
       "        text-align: right;\n",
       "    }\n",
       "</style>\n",
       "<table border=\"1\" class=\"dataframe\">\n",
       "  <thead>\n",
       "    <tr style=\"text-align: right;\">\n",
       "      <th></th>\n",
       "      <th>CustomName</th>\n",
       "      <th>Representation</th>\n",
       "      <th>Count</th>\n",
       "      <th>Representative_Docs</th>\n",
       "    </tr>\n",
       "  </thead>\n",
       "  <tbody>\n",
       "    <tr>\n",
       "      <th>0</th>\n",
       "      <td>Label: Automation Customer Support</td>\n",
       "      <td>[to, and, it, of, not, is, are, we, be, in]</td>\n",
       "      <td>116</td>\n",
       "      <td>[i can see there is no option to view data fom...</td>\n",
       "    </tr>\n",
       "    <tr>\n",
       "      <th>1</th>\n",
       "      <td>Label: Chatbot Development and Automation</td>\n",
       "      <td>[to, chat, and, of, it, be, for, that, is, cha...</td>\n",
       "      <td>75</td>\n",
       "      <td>[while user interface is friendly i've had exp...</td>\n",
       "    </tr>\n",
       "    <tr>\n",
       "      <th>2</th>\n",
       "      <td>Label: Automation Marketing Leads</td>\n",
       "      <td>[dislike, nothing, to, there, is, about, to di...</td>\n",
       "      <td>64</td>\n",
       "      <td>[there is nothing that i dislike about, nothin...</td>\n",
       "    </tr>\n",
       "    <tr>\n",
       "      <th>3</th>\n",
       "      <td>Label: Customer Support Automation</td>\n",
       "      <td>[to, and, it, is, but, there, are, was, that, ...</td>\n",
       "      <td>63</td>\n",
       "      <td>[moves so quickly with improvements to core pr...</td>\n",
       "    </tr>\n",
       "    <tr>\n",
       "      <th>4</th>\n",
       "      <td>Label: Advanced Chatbot Development</td>\n",
       "      <td>[it, to, is, be, of, and, learning, in, but, t...</td>\n",
       "      <td>60</td>\n",
       "      <td>[- there is significant learning curve to onbo...</td>\n",
       "    </tr>\n",
       "    <tr>\n",
       "      <th>5</th>\n",
       "      <td>Label: Bot Development Issues</td>\n",
       "      <td>[bot, to, is, of, and, in, not, it, can, bots]</td>\n",
       "      <td>57</td>\n",
       "      <td>[somewhat buggy platform and difficult to debu...</td>\n",
       "    </tr>\n",
       "    <tr>\n",
       "      <th>6</th>\n",
       "      <td>Label: Marketing Automation Features</td>\n",
       "      <td>[more, to, would, and, be, of, would be, need,...</td>\n",
       "      <td>55</td>\n",
       "      <td>[additional dashboard customizations and analy...</td>\n",
       "    </tr>\n",
       "    <tr>\n",
       "      <th>7</th>\n",
       "      <td>Label: Marketing Automation Pending Implementa...</td>\n",
       "      <td>[nothing, not, to, yet, my, in, is, it, and, t...</td>\n",
       "      <td>55</td>\n",
       "      <td>[as such nothing and most of functionlity work...</td>\n",
       "    </tr>\n",
       "    <tr>\n",
       "      <th>8</th>\n",
       "      <td>Label: Automation Marketing Pricing</td>\n",
       "      <td>[for, is, to, pricing, it, they, of, be, and, ...</td>\n",
       "      <td>49</td>\n",
       "      <td>[pricing tiers are bit out of reach we would l...</td>\n",
       "    </tr>\n",
       "    <tr>\n",
       "      <th>9</th>\n",
       "      <td>Label: Automation Marketing Leads</td>\n",
       "      <td>[and, to, it, is, sometimes, in, of, that, thi...</td>\n",
       "      <td>47</td>\n",
       "      <td>[ai is always difficult to manage especially s...</td>\n",
       "    </tr>\n",
       "    <tr>\n",
       "      <th>10</th>\n",
       "      <td>Label: Marketing Collaboration Support</td>\n",
       "      <td>[everything, have, nothing, so far, and, far, ...</td>\n",
       "      <td>46</td>\n",
       "      <td>[collaboration is important to me so everythin...</td>\n",
       "    </tr>\n",
       "    <tr>\n",
       "      <th>11</th>\n",
       "      <td>Label: Content Creation and Automation</td>\n",
       "      <td>[to, more, integration, nothing, with, is, see...</td>\n",
       "      <td>45</td>\n",
       "      <td>[nothing much to say here hopefully documentat...</td>\n",
       "    </tr>\n",
       "  </tbody>\n",
       "</table>\n",
       "</div>"
      ],
      "text/plain": [
       "                                           CustomName  \\\n",
       "0                  Label: Automation Customer Support   \n",
       "1           Label: Chatbot Development and Automation   \n",
       "2                   Label: Automation Marketing Leads   \n",
       "3                  Label: Customer Support Automation   \n",
       "4                 Label: Advanced Chatbot Development   \n",
       "5                       Label: Bot Development Issues   \n",
       "6                Label: Marketing Automation Features   \n",
       "7   Label: Marketing Automation Pending Implementa...   \n",
       "8                 Label: Automation Marketing Pricing   \n",
       "9                   Label: Automation Marketing Leads   \n",
       "10             Label: Marketing Collaboration Support   \n",
       "11             Label: Content Creation and Automation   \n",
       "\n",
       "                                       Representation  Count  \\\n",
       "0         [to, and, it, of, not, is, are, we, be, in]    116   \n",
       "1   [to, chat, and, of, it, be, for, that, is, cha...     75   \n",
       "2   [dislike, nothing, to, there, is, about, to di...     64   \n",
       "3   [to, and, it, is, but, there, are, was, that, ...     63   \n",
       "4   [it, to, is, be, of, and, learning, in, but, t...     60   \n",
       "5      [bot, to, is, of, and, in, not, it, can, bots]     57   \n",
       "6   [more, to, would, and, be, of, would be, need,...     55   \n",
       "7   [nothing, not, to, yet, my, in, is, it, and, t...     55   \n",
       "8   [for, is, to, pricing, it, they, of, be, and, ...     49   \n",
       "9   [and, to, it, is, sometimes, in, of, that, thi...     47   \n",
       "10  [everything, have, nothing, so far, and, far, ...     46   \n",
       "11  [to, more, integration, nothing, with, is, see...     45   \n",
       "\n",
       "                                  Representative_Docs  \n",
       "0   [i can see there is no option to view data fom...  \n",
       "1   [while user interface is friendly i've had exp...  \n",
       "2   [there is nothing that i dislike about, nothin...  \n",
       "3   [moves so quickly with improvements to core pr...  \n",
       "4   [- there is significant learning curve to onbo...  \n",
       "5   [somewhat buggy platform and difficult to debu...  \n",
       "6   [additional dashboard customizations and analy...  \n",
       "7   [as such nothing and most of functionlity work...  \n",
       "8   [pricing tiers are bit out of reach we would l...  \n",
       "9   [ai is always difficult to manage especially s...  \n",
       "10  [collaboration is important to me so everythin...  \n",
       "11  [nothing much to say here hopefully documentat...  "
      ]
     },
     "execution_count": 347,
     "metadata": {},
     "output_type": "execute_result"
    }
   ],
   "source": [
    "topics_process_labels[['CustomName','Representation','Count','Representative_Docs']]"
   ]
  },
  {
   "cell_type": "code",
   "execution_count": 326,
   "metadata": {
    "execution": {
     "iopub.execute_input": "2024-11-28T23:15:02.220106Z",
     "iopub.status.busy": "2024-11-28T23:15:02.219370Z",
     "iopub.status.idle": "2024-11-28T23:15:02.228396Z",
     "shell.execute_reply": "2024-11-28T23:15:02.226748Z",
     "shell.execute_reply.started": "2024-11-28T23:15:02.220053Z"
    },
    "trusted": true
   },
   "outputs": [],
   "source": [
    "topics_process_labels[['CustomName','Representation','Count','Representative_Docs']].to_csv('labels_json_Process.csv')"
   ]
  },
  {
   "cell_type": "code",
   "execution_count": 327,
   "metadata": {
    "execution": {
     "iopub.execute_input": "2024-11-28T23:15:02.230657Z",
     "iopub.status.busy": "2024-11-28T23:15:02.230367Z",
     "iopub.status.idle": "2024-11-28T23:15:02.291161Z",
     "shell.execute_reply": "2024-11-28T23:15:02.290274Z",
     "shell.execute_reply.started": "2024-11-28T23:15:02.230622Z"
    },
    "trusted": true
   },
   "outputs": [],
   "source": [
    "fig1 = topic_model_4.visualize_heatmap(n_clusters=2,width=1000, height=1000,custom_labels=True)\n",
    "fig1.write_html(\"heatmap_json_Process.html\")"
   ]
  },
  {
   "cell_type": "code",
   "execution_count": 328,
   "metadata": {
    "execution": {
     "iopub.execute_input": "2024-11-28T23:15:02.292674Z",
     "iopub.status.busy": "2024-11-28T23:15:02.292309Z",
     "iopub.status.idle": "2024-11-28T23:15:05.341457Z",
     "shell.execute_reply": "2024-11-28T23:15:05.340513Z",
     "shell.execute_reply.started": "2024-11-28T23:15:02.292624Z"
    },
    "trusted": true
   },
   "outputs": [],
   "source": [
    "reduced_embeddings = UMAP(n_components=2, min_dist=0.0, metric='cosine', random_state=42).fit_transform(embeddings_quant)"
   ]
  },
  {
   "cell_type": "code",
   "execution_count": 329,
   "metadata": {
    "execution": {
     "iopub.execute_input": "2024-11-28T23:15:05.342945Z",
     "iopub.status.busy": "2024-11-28T23:15:05.342657Z",
     "iopub.status.idle": "2024-11-28T23:15:05.434476Z",
     "shell.execute_reply": "2024-11-28T23:15:05.433802Z",
     "shell.execute_reply.started": "2024-11-28T23:15:05.342919Z"
    },
    "trusted": true
   },
   "outputs": [],
   "source": [
    "fig2 = topic_model_4.visualize_documents(reviews, reduced_embeddings=reduced_embeddings, hide_annotations=False, hide_document_hover=False, custom_labels=True)\n",
    "fig2.write_html(\"map_topics_json_Process.html\")"
   ]
  },
  {
   "cell_type": "code",
   "execution_count": 330,
   "metadata": {
    "execution": {
     "iopub.execute_input": "2024-11-28T23:15:06.173096Z",
     "iopub.status.busy": "2024-11-28T23:15:06.172764Z",
     "iopub.status.idle": "2024-11-28T23:15:06.265078Z",
     "shell.execute_reply": "2024-11-28T23:15:06.264153Z",
     "shell.execute_reply.started": "2024-11-28T23:15:06.173068Z"
    },
    "trusted": true
   },
   "outputs": [
    {
     "name": "stderr",
     "output_type": "stream",
     "text": [
      "100%|██████████| 9/9 [00:00<00:00, 345.88it/s]\n"
     ]
    }
   ],
   "source": [
    "hierarchical_topics_process = topic_model_4.hierarchical_topics(reviews)\n",
    "fig3 = topic_model_4.visualize_hierarchy(hierarchical_topics=hierarchical_topics_process,custom_labels=True)\n",
    "fig3.write_html(\"hierachy_topics_json_Process.html\")"
   ]
  },
  {
   "cell_type": "code",
   "execution_count": 144,
   "metadata": {
    "execution": {
     "iopub.execute_input": "2024-11-28T20:41:17.156945Z",
     "iopub.status.busy": "2024-11-28T20:41:17.156079Z",
     "iopub.status.idle": "2024-11-28T20:41:17.171320Z",
     "shell.execute_reply": "2024-11-28T20:41:17.170094Z",
     "shell.execute_reply.started": "2024-11-28T20:41:17.156905Z"
    },
    "trusted": true
   },
   "outputs": [
    {
     "name": "stderr",
     "output_type": "stream",
     "text": [
      "100%|██████████| 1/1 [00:00<00:00, 135.26it/s]\n"
     ]
    }
   ],
   "source": [
    "topic_distr, topic_token_distr = topic_model_4.approximate_distribution(reviews, calculate_tokens=True)"
   ]
  },
  {
   "cell_type": "code",
   "execution_count": 145,
   "metadata": {
    "execution": {
     "iopub.execute_input": "2024-11-28T20:41:25.270206Z",
     "iopub.status.busy": "2024-11-28T20:41:25.269502Z",
     "iopub.status.idle": "2024-11-28T20:41:25.289278Z",
     "shell.execute_reply": "2024-11-28T20:41:25.288350Z",
     "shell.execute_reply.started": "2024-11-28T20:41:25.270173Z"
    },
    "trusted": true
   },
   "outputs": [
    {
     "data": {
      "text/html": [
       "<style type=\"text/css\">\n",
       "#T_751e1_row0_col0 {\n",
       "  background-color: #d3e3f3;\n",
       "  color: #000000;\n",
       "  color: black;\n",
       "}\n",
       "#T_751e1_row0_col1 {\n",
       "  background-color: #aed1e7;\n",
       "  color: #000000;\n",
       "  color: black;\n",
       "}\n",
       "#T_751e1_row0_col2 {\n",
       "  background-color: #7ab6d9;\n",
       "  color: #000000;\n",
       "  color: black;\n",
       "}\n",
       "#T_751e1_row0_col3, #T_751e1_row0_col4 {\n",
       "  background-color: #4695c8;\n",
       "  color: #f1f1f1;\n",
       "  color: black;\n",
       "}\n",
       "#T_751e1_row0_col5 {\n",
       "  background-color: #2373b6;\n",
       "  color: #f1f1f1;\n",
       "  color: black;\n",
       "}\n",
       "#T_751e1_row0_col6 {\n",
       "  background-color: #0e58a2;\n",
       "  color: #f1f1f1;\n",
       "  color: black;\n",
       "}\n",
       "#T_751e1_row0_col7 {\n",
       "  background-color: #083d7f;\n",
       "  color: #f1f1f1;\n",
       "  color: black;\n",
       "}\n",
       "#T_751e1_row0_col8 {\n",
       "  background-color: #08306b;\n",
       "  color: #f1f1f1;\n",
       "  color: black;\n",
       "}\n",
       "#T_751e1_row0_col9 {\n",
       "  background-color: #083776;\n",
       "  color: #f1f1f1;\n",
       "  color: black;\n",
       "}\n",
       "#T_751e1_row0_col10 {\n",
       "  background-color: #083674;\n",
       "  color: #f1f1f1;\n",
       "  color: black;\n",
       "}\n",
       "#T_751e1_row0_col11 {\n",
       "  background-color: #2777b8;\n",
       "  color: #f1f1f1;\n",
       "  color: black;\n",
       "}\n",
       "#T_751e1_row0_col12 {\n",
       "  background-color: #71b1d7;\n",
       "  color: #f1f1f1;\n",
       "  color: black;\n",
       "}\n",
       "#T_751e1_row0_col13 {\n",
       "  background-color: #c7dbef;\n",
       "  color: #000000;\n",
       "  color: black;\n",
       "}\n",
       "#T_751e1_row1_col0, #T_751e1_row1_col1, #T_751e1_row1_col2, #T_751e1_row1_col3, #T_751e1_row1_col4 {\n",
       "  background-color: #f7fbff;\n",
       "  color: #000000;\n",
       "  color: white;\n",
       "  background-color: white;\n",
       "}\n",
       "#T_751e1_row1_col5 {\n",
       "  background-color: #e5eff9;\n",
       "  color: #000000;\n",
       "  color: black;\n",
       "}\n",
       "#T_751e1_row1_col6 {\n",
       "  background-color: #cadef0;\n",
       "  color: #000000;\n",
       "  color: black;\n",
       "}\n",
       "#T_751e1_row1_col7 {\n",
       "  background-color: #9dcae1;\n",
       "  color: #000000;\n",
       "  color: black;\n",
       "}\n",
       "#T_751e1_row1_col8 {\n",
       "  background-color: #68acd5;\n",
       "  color: #f1f1f1;\n",
       "  color: black;\n",
       "}\n",
       "#T_751e1_row1_col9 {\n",
       "  background-color: #5aa2cf;\n",
       "  color: #f1f1f1;\n",
       "  color: black;\n",
       "}\n",
       "#T_751e1_row1_col10 {\n",
       "  background-color: #519ccc;\n",
       "  color: #f1f1f1;\n",
       "  color: black;\n",
       "}\n",
       "#T_751e1_row1_col11 {\n",
       "  background-color: #87bddc;\n",
       "  color: #000000;\n",
       "  color: black;\n",
       "}\n",
       "#T_751e1_row1_col12 {\n",
       "  background-color: #b5d4e9;\n",
       "  color: #000000;\n",
       "  color: black;\n",
       "}\n",
       "#T_751e1_row1_col13 {\n",
       "  background-color: #d6e6f4;\n",
       "  color: #000000;\n",
       "  color: black;\n",
       "}\n",
       "</style>\n",
       "<table id=\"T_751e1\">\n",
       "  <thead>\n",
       "    <tr>\n",
       "      <th class=\"blank level0\" >&nbsp;</th>\n",
       "      <th id=\"T_751e1_level0_col0\" class=\"col_heading level0 col0\" >Possible</th>\n",
       "      <th id=\"T_751e1_level0_col1\" class=\"col_heading level0 col1\" >biases </th>\n",
       "      <th id=\"T_751e1_level0_col2\" class=\"col_heading level0 col2\" >in  </th>\n",
       "      <th id=\"T_751e1_level0_col3\" class=\"col_heading level0 col3\" >AI   </th>\n",
       "      <th id=\"T_751e1_level0_col4\" class=\"col_heading level0 col4\" >powered    </th>\n",
       "      <th id=\"T_751e1_level0_col5\" class=\"col_heading level0 col5\" >chatbot     </th>\n",
       "      <th id=\"T_751e1_level0_col6\" class=\"col_heading level0 col6\" >responses      </th>\n",
       "      <th id=\"T_751e1_level0_col7\" class=\"col_heading level0 col7\" >due       </th>\n",
       "      <th id=\"T_751e1_level0_col8\" class=\"col_heading level0 col8\" >to        </th>\n",
       "      <th id=\"T_751e1_level0_col9\" class=\"col_heading level0 col9\" >lack         </th>\n",
       "      <th id=\"T_751e1_level0_col10\" class=\"col_heading level0 col10\" >of          </th>\n",
       "      <th id=\"T_751e1_level0_col11\" class=\"col_heading level0 col11\" >diverse           </th>\n",
       "      <th id=\"T_751e1_level0_col12\" class=\"col_heading level0 col12\" >training            </th>\n",
       "      <th id=\"T_751e1_level0_col13\" class=\"col_heading level0 col13\" >data             </th>\n",
       "    </tr>\n",
       "  </thead>\n",
       "  <tbody>\n",
       "    <tr>\n",
       "      <th id=\"T_751e1_level0_row0\" class=\"row_heading level0 row0\" >1_chatbot_to_due_due to</th>\n",
       "      <td id=\"T_751e1_row0_col0\" class=\"data row0 col0\" >0.247</td>\n",
       "      <td id=\"T_751e1_row0_col1\" class=\"data row0 col1\" >0.430</td>\n",
       "      <td id=\"T_751e1_row0_col2\" class=\"data row0 col2\" >0.611</td>\n",
       "      <td id=\"T_751e1_row0_col3\" class=\"data row0 col3\" >0.808</td>\n",
       "      <td id=\"T_751e1_row0_col4\" class=\"data row0 col4\" >0.808</td>\n",
       "      <td id=\"T_751e1_row0_col5\" class=\"data row0 col5\" >0.978</td>\n",
       "      <td id=\"T_751e1_row0_col6\" class=\"data row0 col6\" >1.115</td>\n",
       "      <td id=\"T_751e1_row0_col7\" class=\"data row0 col7\" >1.248</td>\n",
       "      <td id=\"T_751e1_row0_col8\" class=\"data row0 col8\" >1.320</td>\n",
       "      <td id=\"T_751e1_row0_col9\" class=\"data row0 col9\" >1.281</td>\n",
       "      <td id=\"T_751e1_row0_col10\" class=\"data row0 col10\" >1.288</td>\n",
       "      <td id=\"T_751e1_row0_col11\" class=\"data row0 col11\" >0.958</td>\n",
       "      <td id=\"T_751e1_row0_col12\" class=\"data row0 col12\" >0.640</td>\n",
       "      <td id=\"T_751e1_row0_col13\" class=\"data row0 col13\" >0.326</td>\n",
       "    </tr>\n",
       "    <tr>\n",
       "      <th id=\"T_751e1_level0_row1\" class=\"row_heading level0 row1\" >2_training data_data_training_to</th>\n",
       "      <td id=\"T_751e1_row1_col0\" class=\"data row1 col0\" >0.000</td>\n",
       "      <td id=\"T_751e1_row1_col1\" class=\"data row1 col1\" >0.000</td>\n",
       "      <td id=\"T_751e1_row1_col2\" class=\"data row1 col2\" >0.000</td>\n",
       "      <td id=\"T_751e1_row1_col3\" class=\"data row1 col3\" >0.000</td>\n",
       "      <td id=\"T_751e1_row1_col4\" class=\"data row1 col4\" >0.000</td>\n",
       "      <td id=\"T_751e1_row1_col5\" class=\"data row1 col5\" >0.119</td>\n",
       "      <td id=\"T_751e1_row1_col6\" class=\"data row1 col6\" >0.303</td>\n",
       "      <td id=\"T_751e1_row1_col7\" class=\"data row1 col7\" >0.499</td>\n",
       "      <td id=\"T_751e1_row1_col8\" class=\"data row1 col8\" >0.673</td>\n",
       "      <td id=\"T_751e1_row1_col9\" class=\"data row1 col9\" >0.730</td>\n",
       "      <td id=\"T_751e1_row1_col10\" class=\"data row1 col10\" >0.767</td>\n",
       "      <td id=\"T_751e1_row1_col11\" class=\"data row1 col11\" >0.571</td>\n",
       "      <td id=\"T_751e1_row1_col12\" class=\"data row1 col12\" >0.397</td>\n",
       "      <td id=\"T_751e1_row1_col13\" class=\"data row1 col13\" >0.221</td>\n",
       "    </tr>\n",
       "  </tbody>\n",
       "</table>\n"
      ],
      "text/plain": [
       "<pandas.io.formats.style.Styler at 0x7861d53dee30>"
      ]
     },
     "execution_count": 145,
     "metadata": {},
     "output_type": "execute_result"
    }
   ],
   "source": [
    "df = topic_model_4.visualize_approximate_distribution(reviews[2], topic_token_distr[2])\n",
    "df"
   ]
  },
  {
   "cell_type": "code",
   "execution_count": 50,
   "metadata": {
    "execution": {
     "iopub.execute_input": "2024-11-28T19:52:27.780827Z",
     "iopub.status.busy": "2024-11-28T19:52:27.780488Z",
     "iopub.status.idle": "2024-11-28T19:52:27.797571Z",
     "shell.execute_reply": "2024-11-28T19:52:27.796837Z",
     "shell.execute_reply.started": "2024-11-28T19:52:27.780802Z"
    },
    "trusted": true
   },
   "outputs": [],
   "source": [
    "df.to_html(\"example_process_think_word_importance_row_1.html\")"
   ]
  },
  {
   "cell_type": "code",
   "execution_count": 331,
   "metadata": {
    "execution": {
     "iopub.execute_input": "2024-11-28T23:15:36.321275Z",
     "iopub.status.busy": "2024-11-28T23:15:36.320931Z",
     "iopub.status.idle": "2024-11-28T23:15:36.400720Z",
     "shell.execute_reply": "2024-11-28T23:15:36.400017Z",
     "shell.execute_reply.started": "2024-11-28T23:15:36.321242Z"
    },
    "trusted": true
   },
   "outputs": [],
   "source": [
    "fig4=topic_model_4.visualize_barchart()\n",
    "fig4.write_html(\"important_words_json_Process.html\")"
   ]
  },
  {
   "cell_type": "markdown",
   "metadata": {},
   "source": [
    "# Final dataset"
   ]
  },
  {
   "cell_type": "code",
   "execution_count": 332,
   "metadata": {
    "execution": {
     "iopub.execute_input": "2024-11-28T23:15:49.061373Z",
     "iopub.status.busy": "2024-11-28T23:15:49.060467Z",
     "iopub.status.idle": "2024-11-28T23:15:49.070900Z",
     "shell.execute_reply": "2024-11-28T23:15:49.069728Z",
     "shell.execute_reply.started": "2024-11-28T23:15:49.061338Z"
    },
    "trusted": true
   },
   "outputs": [],
   "source": [
    "table_results = {\n",
    "    'json_Process': reviews,\n",
    "    'Topic': topics_process\n",
    "}\n",
    "final_table = pd.DataFrame(table_results)\n",
    "merged_table_process = pd.merge(final_table, topics_process_labels[['Topic','CustomName']], on='Topic', how='left')"
   ]
  },
  {
   "cell_type": "code",
   "execution_count": 333,
   "metadata": {
    "execution": {
     "iopub.execute_input": "2024-11-28T23:15:51.071086Z",
     "iopub.status.busy": "2024-11-28T23:15:51.070397Z",
     "iopub.status.idle": "2024-11-28T23:15:51.076041Z",
     "shell.execute_reply": "2024-11-28T23:15:51.075230Z",
     "shell.execute_reply.started": "2024-11-28T23:15:51.071054Z"
    },
    "trusted": true
   },
   "outputs": [],
   "source": [
    "merged_table_process = merged_table_process.rename(columns={'CustomName': 'Process_topics'})\n"
   ]
  },
  {
   "cell_type": "code",
   "execution_count": null,
   "metadata": {
    "execution": {
     "iopub.execute_input": "2024-11-28T22:57:58.618140Z",
     "iopub.status.busy": "2024-11-28T22:57:58.617327Z",
     "iopub.status.idle": "2024-11-28T22:57:58.621816Z",
     "shell.execute_reply": "2024-11-28T22:57:58.620890Z",
     "shell.execute_reply.started": "2024-11-28T22:57:58.618105Z"
    },
    "trusted": true
   },
   "outputs": [],
   "source": [
    "merged_table_process.index = reviews_1.index"
   ]
  },
  {
   "cell_type": "code",
   "execution_count": 270,
   "metadata": {
    "execution": {
     "iopub.execute_input": "2024-11-28T22:46:38.163140Z",
     "iopub.status.busy": "2024-11-28T22:46:38.162830Z",
     "iopub.status.idle": "2024-11-28T22:46:38.173535Z",
     "shell.execute_reply": "2024-11-28T22:46:38.172558Z",
     "shell.execute_reply.started": "2024-11-28T22:46:38.163115Z"
    },
    "trusted": true
   },
   "outputs": [
    {
     "data": {
      "text/html": [
       "<div>\n",
       "<style scoped>\n",
       "    .dataframe tbody tr th:only-of-type {\n",
       "        vertical-align: middle;\n",
       "    }\n",
       "\n",
       "    .dataframe tbody tr th {\n",
       "        vertical-align: top;\n",
       "    }\n",
       "\n",
       "    .dataframe thead th {\n",
       "        text-align: right;\n",
       "    }\n",
       "</style>\n",
       "<table border=\"1\" class=\"dataframe\">\n",
       "  <thead>\n",
       "    <tr style=\"text-align: right;\">\n",
       "      <th></th>\n",
       "      <th>json_Explainability_think</th>\n",
       "      <th>Topic</th>\n",
       "      <th>Explainability_think_topics</th>\n",
       "    </tr>\n",
       "  </thead>\n",
       "  <tbody>\n",
       "    <tr>\n",
       "      <th>4</th>\n",
       "      <td>The chatbot's actions and decisions are transp...</td>\n",
       "      <td>2</td>\n",
       "      <td>Label: Chatbot Decision Making Processes</td>\n",
       "    </tr>\n",
       "    <tr>\n",
       "      <th>6</th>\n",
       "      <td>The chatbot provides clear explanations for i...</td>\n",
       "      <td>3</td>\n",
       "      <td>Label: Chatbot Explanations</td>\n",
       "    </tr>\n",
       "    <tr>\n",
       "      <th>14</th>\n",
       "      <td>User wants clear explanations of AI's decision...</td>\n",
       "      <td>4</td>\n",
       "      <td>Label: AI Decision Making Transparency</td>\n",
       "    </tr>\n",
       "    <tr>\n",
       "      <th>27</th>\n",
       "      <td>Clear explanations provided for chatbot AI dec...</td>\n",
       "      <td>3</td>\n",
       "      <td>Label: Chatbot Explanations</td>\n",
       "    </tr>\n",
       "    <tr>\n",
       "      <th>28</th>\n",
       "      <td>Chatbot's transparent responses help users und...</td>\n",
       "      <td>2</td>\n",
       "      <td>Label: Chatbot Decision Making Processes</td>\n",
       "    </tr>\n",
       "    <tr>\n",
       "      <th>...</th>\n",
       "      <td>...</td>\n",
       "      <td>...</td>\n",
       "      <td>...</td>\n",
       "    </tr>\n",
       "    <tr>\n",
       "      <th>715</th>\n",
       "      <td>User appreciates the ability of the tool to pr...</td>\n",
       "      <td>0</td>\n",
       "      <td>Label: Automation Decision Explanations</td>\n",
       "    </tr>\n",
       "    <tr>\n",
       "      <th>721</th>\n",
       "      <td>The tool provides clear explanations for its ...</td>\n",
       "      <td>0</td>\n",
       "      <td>Label: Automation Decision Explanations</td>\n",
       "    </tr>\n",
       "    <tr>\n",
       "      <th>723</th>\n",
       "      <td>User finds the bot's responses to be clear and...</td>\n",
       "      <td>1</td>\n",
       "      <td>Label: Explainable Sales Tool</td>\n",
       "    </tr>\n",
       "    <tr>\n",
       "      <th>730</th>\n",
       "      <td>The tool provides clear and transparent expla...</td>\n",
       "      <td>0</td>\n",
       "      <td>Label: Automation Decision Explanations</td>\n",
       "    </tr>\n",
       "    <tr>\n",
       "      <th>731</th>\n",
       "      <td>The AI assistant's decision-making process cou...</td>\n",
       "      <td>4</td>\n",
       "      <td>Label: AI Decision Making Transparency</td>\n",
       "    </tr>\n",
       "  </tbody>\n",
       "</table>\n",
       "<p>129 rows × 3 columns</p>\n",
       "</div>"
      ],
      "text/plain": [
       "                             json_Explainability_think  Topic  \\\n",
       "4    The chatbot's actions and decisions are transp...      2   \n",
       "6     The chatbot provides clear explanations for i...      3   \n",
       "14   User wants clear explanations of AI's decision...      4   \n",
       "27   Clear explanations provided for chatbot AI dec...      3   \n",
       "28   Chatbot's transparent responses help users und...      2   \n",
       "..                                                 ...    ...   \n",
       "715  User appreciates the ability of the tool to pr...      0   \n",
       "721   The tool provides clear explanations for its ...      0   \n",
       "723  User finds the bot's responses to be clear and...      1   \n",
       "730   The tool provides clear and transparent expla...      0   \n",
       "731  The AI assistant's decision-making process cou...      4   \n",
       "\n",
       "                  Explainability_think_topics  \n",
       "4    Label: Chatbot Decision Making Processes  \n",
       "6                 Label: Chatbot Explanations  \n",
       "14     Label: AI Decision Making Transparency  \n",
       "27                Label: Chatbot Explanations  \n",
       "28   Label: Chatbot Decision Making Processes  \n",
       "..                                        ...  \n",
       "715   Label: Automation Decision Explanations  \n",
       "721   Label: Automation Decision Explanations  \n",
       "723             Label: Explainable Sales Tool  \n",
       "730   Label: Automation Decision Explanations  \n",
       "731    Label: AI Decision Making Transparency  \n",
       "\n",
       "[129 rows x 3 columns]"
      ]
     },
     "execution_count": 270,
     "metadata": {},
     "output_type": "execute_result"
    }
   ],
   "source": [
    "merged_table_process"
   ]
  },
  {
   "cell_type": "code",
   "execution_count": 334,
   "metadata": {
    "execution": {
     "iopub.execute_input": "2024-11-28T23:15:59.096372Z",
     "iopub.status.busy": "2024-11-28T23:15:59.095541Z",
     "iopub.status.idle": "2024-11-28T23:15:59.103616Z",
     "shell.execute_reply": "2024-11-28T23:15:59.102724Z",
     "shell.execute_reply.started": "2024-11-28T23:15:59.096341Z"
    },
    "trusted": true
   },
   "outputs": [],
   "source": [
    "merged_table_process.to_csv('json_Process.csv')"
   ]
  }
 ],
 "metadata": {
  "kaggle": {
   "accelerator": "nvidiaTeslaT4",
   "dataSources": [
    {
     "datasetId": 6186331,
     "sourceId": 10042317,
     "sourceType": "datasetVersion"
    }
   ],
   "dockerImageVersionId": 30787,
   "isGpuEnabled": true,
   "isInternetEnabled": true,
   "language": "python",
   "sourceType": "notebook"
  },
  "kernelspec": {
   "display_name": "Python 3",
   "language": "python",
   "name": "python3"
  },
  "language_info": {
   "codemirror_mode": {
    "name": "ipython",
    "version": 3
   },
   "file_extension": ".py",
   "mimetype": "text/x-python",
   "name": "python",
   "nbconvert_exporter": "python",
   "pygments_lexer": "ipython3",
   "version": "3.10.14"
  }
 },
 "nbformat": 4,
 "nbformat_minor": 4
}
